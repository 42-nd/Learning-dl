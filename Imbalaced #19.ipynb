{
 "cells": [
  {
   "cell_type": "code",
   "execution_count": 10,
   "metadata": {},
   "outputs": [],
   "source": [
    "import numpy as np\n",
    "import pandas as pd\n",
    "df = pd.read_csv('Churn_Modelling.csv',index_col='RowNumber')"
   ]
  },
  {
   "cell_type": "code",
   "execution_count": 11,
   "metadata": {},
   "outputs": [
    {
     "data": {
      "text/html": [
       "<div>\n",
       "<style scoped>\n",
       "    .dataframe tbody tr th:only-of-type {\n",
       "        vertical-align: middle;\n",
       "    }\n",
       "\n",
       "    .dataframe tbody tr th {\n",
       "        vertical-align: top;\n",
       "    }\n",
       "\n",
       "    .dataframe thead th {\n",
       "        text-align: right;\n",
       "    }\n",
       "</style>\n",
       "<table border=\"1\" class=\"dataframe\">\n",
       "  <thead>\n",
       "    <tr style=\"text-align: right;\">\n",
       "      <th></th>\n",
       "      <th>CreditScore</th>\n",
       "      <th>Gender</th>\n",
       "      <th>Age</th>\n",
       "      <th>Tenure</th>\n",
       "      <th>Balance</th>\n",
       "      <th>NumOfProducts</th>\n",
       "      <th>HasCrCard</th>\n",
       "      <th>IsActiveMember</th>\n",
       "      <th>EstimatedSalary</th>\n",
       "      <th>Exited</th>\n",
       "      <th>Geography_France</th>\n",
       "      <th>Geography_Germany</th>\n",
       "      <th>Geography_Spain</th>\n",
       "    </tr>\n",
       "    <tr>\n",
       "      <th>RowNumber</th>\n",
       "      <th></th>\n",
       "      <th></th>\n",
       "      <th></th>\n",
       "      <th></th>\n",
       "      <th></th>\n",
       "      <th></th>\n",
       "      <th></th>\n",
       "      <th></th>\n",
       "      <th></th>\n",
       "      <th></th>\n",
       "      <th></th>\n",
       "      <th></th>\n",
       "      <th></th>\n",
       "    </tr>\n",
       "  </thead>\n",
       "  <tbody>\n",
       "    <tr>\n",
       "      <th>1</th>\n",
       "      <td>0.538</td>\n",
       "      <td>1</td>\n",
       "      <td>0.324324</td>\n",
       "      <td>0.2</td>\n",
       "      <td>0.000000</td>\n",
       "      <td>1</td>\n",
       "      <td>1</td>\n",
       "      <td>1</td>\n",
       "      <td>0.506735</td>\n",
       "      <td>1</td>\n",
       "      <td>1</td>\n",
       "      <td>0</td>\n",
       "      <td>0</td>\n",
       "    </tr>\n",
       "    <tr>\n",
       "      <th>2</th>\n",
       "      <td>0.516</td>\n",
       "      <td>1</td>\n",
       "      <td>0.310811</td>\n",
       "      <td>0.1</td>\n",
       "      <td>0.334031</td>\n",
       "      <td>1</td>\n",
       "      <td>0</td>\n",
       "      <td>1</td>\n",
       "      <td>0.562709</td>\n",
       "      <td>0</td>\n",
       "      <td>0</td>\n",
       "      <td>0</td>\n",
       "      <td>1</td>\n",
       "    </tr>\n",
       "    <tr>\n",
       "      <th>3</th>\n",
       "      <td>0.304</td>\n",
       "      <td>1</td>\n",
       "      <td>0.324324</td>\n",
       "      <td>0.8</td>\n",
       "      <td>0.636357</td>\n",
       "      <td>3</td>\n",
       "      <td>1</td>\n",
       "      <td>0</td>\n",
       "      <td>0.569654</td>\n",
       "      <td>1</td>\n",
       "      <td>1</td>\n",
       "      <td>0</td>\n",
       "      <td>0</td>\n",
       "    </tr>\n",
       "    <tr>\n",
       "      <th>4</th>\n",
       "      <td>0.698</td>\n",
       "      <td>1</td>\n",
       "      <td>0.283784</td>\n",
       "      <td>0.1</td>\n",
       "      <td>0.000000</td>\n",
       "      <td>2</td>\n",
       "      <td>0</td>\n",
       "      <td>0</td>\n",
       "      <td>0.469120</td>\n",
       "      <td>0</td>\n",
       "      <td>1</td>\n",
       "      <td>0</td>\n",
       "      <td>0</td>\n",
       "    </tr>\n",
       "    <tr>\n",
       "      <th>5</th>\n",
       "      <td>1.000</td>\n",
       "      <td>1</td>\n",
       "      <td>0.337838</td>\n",
       "      <td>0.2</td>\n",
       "      <td>0.500246</td>\n",
       "      <td>1</td>\n",
       "      <td>1</td>\n",
       "      <td>1</td>\n",
       "      <td>0.395400</td>\n",
       "      <td>0</td>\n",
       "      <td>0</td>\n",
       "      <td>0</td>\n",
       "      <td>1</td>\n",
       "    </tr>\n",
       "    <tr>\n",
       "      <th>...</th>\n",
       "      <td>...</td>\n",
       "      <td>...</td>\n",
       "      <td>...</td>\n",
       "      <td>...</td>\n",
       "      <td>...</td>\n",
       "      <td>...</td>\n",
       "      <td>...</td>\n",
       "      <td>...</td>\n",
       "      <td>...</td>\n",
       "      <td>...</td>\n",
       "      <td>...</td>\n",
       "      <td>...</td>\n",
       "      <td>...</td>\n",
       "    </tr>\n",
       "    <tr>\n",
       "      <th>9996</th>\n",
       "      <td>0.842</td>\n",
       "      <td>0</td>\n",
       "      <td>0.283784</td>\n",
       "      <td>0.5</td>\n",
       "      <td>0.000000</td>\n",
       "      <td>2</td>\n",
       "      <td>1</td>\n",
       "      <td>0</td>\n",
       "      <td>0.481341</td>\n",
       "      <td>0</td>\n",
       "      <td>1</td>\n",
       "      <td>0</td>\n",
       "      <td>0</td>\n",
       "    </tr>\n",
       "    <tr>\n",
       "      <th>9997</th>\n",
       "      <td>0.332</td>\n",
       "      <td>0</td>\n",
       "      <td>0.229730</td>\n",
       "      <td>1.0</td>\n",
       "      <td>0.228657</td>\n",
       "      <td>1</td>\n",
       "      <td>1</td>\n",
       "      <td>1</td>\n",
       "      <td>0.508490</td>\n",
       "      <td>0</td>\n",
       "      <td>1</td>\n",
       "      <td>0</td>\n",
       "      <td>0</td>\n",
       "    </tr>\n",
       "    <tr>\n",
       "      <th>9998</th>\n",
       "      <td>0.718</td>\n",
       "      <td>1</td>\n",
       "      <td>0.243243</td>\n",
       "      <td>0.7</td>\n",
       "      <td>0.000000</td>\n",
       "      <td>1</td>\n",
       "      <td>0</td>\n",
       "      <td>1</td>\n",
       "      <td>0.210390</td>\n",
       "      <td>1</td>\n",
       "      <td>1</td>\n",
       "      <td>0</td>\n",
       "      <td>0</td>\n",
       "    </tr>\n",
       "    <tr>\n",
       "      <th>9999</th>\n",
       "      <td>0.844</td>\n",
       "      <td>0</td>\n",
       "      <td>0.324324</td>\n",
       "      <td>0.3</td>\n",
       "      <td>0.299226</td>\n",
       "      <td>2</td>\n",
       "      <td>1</td>\n",
       "      <td>0</td>\n",
       "      <td>0.464429</td>\n",
       "      <td>1</td>\n",
       "      <td>0</td>\n",
       "      <td>1</td>\n",
       "      <td>0</td>\n",
       "    </tr>\n",
       "    <tr>\n",
       "      <th>10000</th>\n",
       "      <td>0.884</td>\n",
       "      <td>1</td>\n",
       "      <td>0.135135</td>\n",
       "      <td>0.4</td>\n",
       "      <td>0.518708</td>\n",
       "      <td>1</td>\n",
       "      <td>1</td>\n",
       "      <td>0</td>\n",
       "      <td>0.190914</td>\n",
       "      <td>0</td>\n",
       "      <td>1</td>\n",
       "      <td>0</td>\n",
       "      <td>0</td>\n",
       "    </tr>\n",
       "  </tbody>\n",
       "</table>\n",
       "<p>10000 rows × 13 columns</p>\n",
       "</div>"
      ],
      "text/plain": [
       "           CreditScore  Gender       Age  Tenure   Balance  NumOfProducts  \\\n",
       "RowNumber                                                                   \n",
       "1                0.538       1  0.324324     0.2  0.000000              1   \n",
       "2                0.516       1  0.310811     0.1  0.334031              1   \n",
       "3                0.304       1  0.324324     0.8  0.636357              3   \n",
       "4                0.698       1  0.283784     0.1  0.000000              2   \n",
       "5                1.000       1  0.337838     0.2  0.500246              1   \n",
       "...                ...     ...       ...     ...       ...            ...   \n",
       "9996             0.842       0  0.283784     0.5  0.000000              2   \n",
       "9997             0.332       0  0.229730     1.0  0.228657              1   \n",
       "9998             0.718       1  0.243243     0.7  0.000000              1   \n",
       "9999             0.844       0  0.324324     0.3  0.299226              2   \n",
       "10000            0.884       1  0.135135     0.4  0.518708              1   \n",
       "\n",
       "           HasCrCard  IsActiveMember  EstimatedSalary  Exited  \\\n",
       "RowNumber                                                       \n",
       "1                  1               1         0.506735       1   \n",
       "2                  0               1         0.562709       0   \n",
       "3                  1               0         0.569654       1   \n",
       "4                  0               0         0.469120       0   \n",
       "5                  1               1         0.395400       0   \n",
       "...              ...             ...              ...     ...   \n",
       "9996               1               0         0.481341       0   \n",
       "9997               1               1         0.508490       0   \n",
       "9998               0               1         0.210390       1   \n",
       "9999               1               0         0.464429       1   \n",
       "10000              1               0         0.190914       0   \n",
       "\n",
       "           Geography_France  Geography_Germany  Geography_Spain  \n",
       "RowNumber                                                        \n",
       "1                         1                  0                0  \n",
       "2                         0                  0                1  \n",
       "3                         1                  0                0  \n",
       "4                         1                  0                0  \n",
       "5                         0                  0                1  \n",
       "...                     ...                ...              ...  \n",
       "9996                      1                  0                0  \n",
       "9997                      1                  0                0  \n",
       "9998                      1                  0                0  \n",
       "9999                      0                  1                0  \n",
       "10000                     1                  0                0  \n",
       "\n",
       "[10000 rows x 13 columns]"
      ]
     },
     "execution_count": 11,
     "metadata": {},
     "output_type": "execute_result"
    }
   ],
   "source": [
    "from sklearn.preprocessing import MinMaxScaler\n",
    "df.drop(['CustomerId','Surname'],axis=1,inplace=True)\n",
    "df['Gender'].replace({'Female':1,'Male':0},inplace=True)\n",
    "df = pd.get_dummies(data= df, columns=['Geography'])\n",
    "cols_to_scale = ['CreditScore','Age','Balance','Tenure','EstimatedSalary']\n",
    "df[cols_to_scale] = MinMaxScaler().fit_transform(df[cols_to_scale])\n",
    "df\n"
   ]
  },
  {
   "cell_type": "code",
   "execution_count": 12,
   "metadata": {},
   "outputs": [
    {
     "data": {
      "text/plain": [
       "0    7963\n",
       "1    2037\n",
       "Name: Exited, dtype: int64"
      ]
     },
     "execution_count": 12,
     "metadata": {},
     "output_type": "execute_result"
    }
   ],
   "source": [
    "df.Exited.value_counts()"
   ]
  },
  {
   "attachments": {},
   "cell_type": "markdown",
   "metadata": {},
   "source": [
    "### Method 1: Undersampling"
   ]
  },
  {
   "cell_type": "code",
   "execution_count": 14,
   "metadata": {},
   "outputs": [
    {
     "data": {
      "text/plain": [
       "(           CreditScore  Gender       Age  Tenure   Balance  NumOfProducts  \\\n",
       " RowNumber                                                                   \n",
       " 2                0.516       1  0.310811     0.1  0.334031              1   \n",
       " 4                0.698       1  0.283784     0.1  0.000000              2   \n",
       " 5                1.000       1  0.337838     0.2  0.500246              1   \n",
       " 7                0.944       0  0.432432     0.7  0.000000              2   \n",
       " 9                0.302       0  0.351351     0.4  0.566170              2   \n",
       " ...                ...     ...       ...     ...       ...            ...   \n",
       " 9994             0.588       0  0.135135     0.7  0.618021              1   \n",
       " 9995             0.900       1  0.148649     0.2  0.000000              2   \n",
       " 9996             0.842       0  0.283784     0.5  0.000000              2   \n",
       " 9997             0.332       0  0.229730     1.0  0.228657              1   \n",
       " 10000            0.884       1  0.135135     0.4  0.518708              1   \n",
       " \n",
       "            HasCrCard  IsActiveMember  EstimatedSalary  Exited  \\\n",
       " RowNumber                                                       \n",
       " 2                  0               1         0.562709       0   \n",
       " 4                  0               0         0.469120       0   \n",
       " 5                  1               1         0.395400       0   \n",
       " 7                  1               1         0.050261       0   \n",
       " 9                  0               1         0.374680       0   \n",
       " ...              ...             ...              ...     ...   \n",
       " 9994               1               0         0.145854       0   \n",
       " 9995               0               0         0.838890       0   \n",
       " 9996               1               0         0.481341       0   \n",
       " 9997               1               1         0.508490       0   \n",
       " 10000              1               0         0.190914       0   \n",
       " \n",
       "            Geography_France  Geography_Germany  Geography_Spain  \n",
       " RowNumber                                                        \n",
       " 2                         0                  0                1  \n",
       " 4                         1                  0                0  \n",
       " 5                         0                  0                1  \n",
       " 7                         1                  0                0  \n",
       " 9                         1                  0                0  \n",
       " ...                     ...                ...              ...  \n",
       " 9994                      1                  0                0  \n",
       " 9995                      1                  0                0  \n",
       " 9996                      1                  0                0  \n",
       " 9997                      1                  0                0  \n",
       " 10000                     1                  0                0  \n",
       " \n",
       " [7963 rows x 13 columns],\n",
       "            CreditScore  Gender       Age  Tenure   Balance  NumOfProducts  \\\n",
       " RowNumber                                                                   \n",
       " 1                0.538       1  0.324324     0.2  0.000000              1   \n",
       " 3                0.304       1  0.324324     0.8  0.636357              3   \n",
       " 6                0.590       0  0.351351     0.8  0.453394              2   \n",
       " 8                0.052       1  0.148649     0.4  0.458540              4   \n",
       " 17               0.606       0  0.540541     0.1  0.528513              1   \n",
       " ...                ...     ...       ...     ...       ...            ...   \n",
       " 9982             0.296       0  0.324324     0.3  0.605982              1   \n",
       " 9983             0.610       1  0.378378     0.7  0.546617              1   \n",
       " 9992             0.494       1  0.472973     0.4  0.352259              1   \n",
       " 9998             0.718       1  0.243243     0.7  0.000000              1   \n",
       " 9999             0.844       0  0.324324     0.3  0.299226              2   \n",
       " \n",
       "            HasCrCard  IsActiveMember  EstimatedSalary  Exited  \\\n",
       " RowNumber                                                       \n",
       " 1                  1               1         0.506735       1   \n",
       " 3                  1               0         0.569654       1   \n",
       " 6                  1               0         0.748797       1   \n",
       " 8                  1               0         0.596733       1   \n",
       " 17                 1               0         0.025433       1   \n",
       " ...              ...             ...              ...     ...   \n",
       " 9982               1               1         0.267193       1   \n",
       " 9983               1               0         0.575729       1   \n",
       " 9992               1               0         0.346899       1   \n",
       " 9998               0               1         0.210390       1   \n",
       " 9999               1               0         0.464429       1   \n",
       " \n",
       "            Geography_France  Geography_Germany  Geography_Spain  \n",
       " RowNumber                                                        \n",
       " 1                         1                  0                0  \n",
       " 3                         1                  0                0  \n",
       " 6                         0                  0                1  \n",
       " 8                         0                  1                0  \n",
       " 17                        0                  1                0  \n",
       " ...                     ...                ...              ...  \n",
       " 9982                      0                  1                0  \n",
       " 9983                      0                  1                0  \n",
       " 9992                      1                  0                0  \n",
       " 9998                      1                  0                0  \n",
       " 9999                      0                  1                0  \n",
       " \n",
       " [2037 rows x 13 columns])"
      ]
     },
     "execution_count": 14,
     "metadata": {},
     "output_type": "execute_result"
    }
   ],
   "source": [
    "count_class_0 , count_class_1 = df.Exited.value_counts()\n",
    "df_class_0 = df[df.Exited == 0] \n",
    "df_class_1 = df[df.Exited == 1]\n",
    "df_class_0 , df_class_1"
   ]
  },
  {
   "cell_type": "code",
   "execution_count": 44,
   "metadata": {},
   "outputs": [
    {
     "data": {
      "text/plain": [
       "0    2037\n",
       "1    2037\n",
       "Name: Exited, dtype: int64"
      ]
     },
     "execution_count": 44,
     "metadata": {},
     "output_type": "execute_result"
    }
   ],
   "source": [
    "df_class_0_sample = df_class_0.sample(count_class_1)\n",
    "df_test = pd.concat([df_class_0_sample,df_class_1],axis =0)\n",
    "df_test.Exited.value_counts() "
   ]
  },
  {
   "cell_type": "code",
   "execution_count": 42,
   "metadata": {},
   "outputs": [],
   "source": [
    "X = df_test.drop(columns=['Exited'],axis=0)\n",
    "y = df_test.Exited\n",
    "\n",
    "from sklearn.model_selection import train_test_split\n",
    "X_train,X_test,y_train,y_test = train_test_split(X, y, test_size=0.2,random_state=15,stratify=y)"
   ]
  },
  {
   "cell_type": "code",
   "execution_count": 21,
   "metadata": {},
   "outputs": [
    {
     "data": {
      "text/plain": [
       "1    1630\n",
       "0    1629\n",
       "Name: Exited, dtype: int64"
      ]
     },
     "execution_count": 21,
     "metadata": {},
     "output_type": "execute_result"
    }
   ],
   "source": [
    "y_train.value_counts()"
   ]
  },
  {
   "cell_type": "code",
   "execution_count": 23,
   "metadata": {},
   "outputs": [],
   "source": [
    "from sklearn.linear_model import LogisticRegression\n",
    "model = LogisticRegression().fit(X_train,y_train)"
   ]
  },
  {
   "cell_type": "code",
   "execution_count": 27,
   "metadata": {},
   "outputs": [],
   "source": [
    "y_pred = model.predict(X_test)"
   ]
  },
  {
   "cell_type": "code",
   "execution_count": 32,
   "metadata": {},
   "outputs": [
    {
     "name": "stdout",
     "output_type": "stream",
     "text": [
      "              precision    recall  f1-score   support\n",
      "\n",
      "           0       0.75      0.71      0.73       435\n",
      "           1       0.69      0.74      0.71       380\n",
      "\n",
      "    accuracy                           0.72       815\n",
      "   macro avg       0.72      0.72      0.72       815\n",
      "weighted avg       0.72      0.72      0.72       815\n",
      "\n"
     ]
    }
   ],
   "source": [
    "from sklearn.metrics import  classification_report\n",
    "print(classification_report(y_pred,y_test))"
   ]
  },
  {
   "attachments": {},
   "cell_type": "markdown",
   "metadata": {},
   "source": [
    "### Method2: Oversampling"
   ]
  },
  {
   "cell_type": "code",
   "execution_count": 36,
   "metadata": {},
   "outputs": [
    {
     "data": {
      "text/plain": [
       "0    7963\n",
       "1    7963\n",
       "Name: Exited, dtype: int64"
      ]
     },
     "execution_count": 36,
     "metadata": {},
     "output_type": "execute_result"
    }
   ],
   "source": [
    "df_class_1_sample = df_class_1.sample(count_class_0,replace=True)\n",
    "df_test = pd.concat([df_class_0,df_class_1_sample],axis=0)\n",
    "df_test.Exited.value_counts()"
   ]
  },
  {
   "cell_type": "code",
   "execution_count": 37,
   "metadata": {},
   "outputs": [],
   "source": [
    "X = df_test.drop(columns=['Exited'],axis=0)\n",
    "y = df_test.Exited\n",
    "\n",
    "from sklearn.model_selection import train_test_split\n",
    "X_train,X_test,y_train,y_test = train_test_split(X, y, test_size=0.2,random_state=15,stratify=y)"
   ]
  },
  {
   "cell_type": "code",
   "execution_count": 38,
   "metadata": {},
   "outputs": [
    {
     "data": {
      "text/plain": [
       "0    6370\n",
       "1    6370\n",
       "Name: Exited, dtype: int64"
      ]
     },
     "execution_count": 38,
     "metadata": {},
     "output_type": "execute_result"
    }
   ],
   "source": [
    "y_train.value_counts()"
   ]
  },
  {
   "cell_type": "code",
   "execution_count": 39,
   "metadata": {},
   "outputs": [],
   "source": [
    "from sklearn.linear_model import LogisticRegression\n",
    "model = LogisticRegression().fit(X_train,y_train)"
   ]
  },
  {
   "cell_type": "code",
   "execution_count": 40,
   "metadata": {},
   "outputs": [],
   "source": [
    "y_pred = model.predict(X_test)"
   ]
  },
  {
   "cell_type": "code",
   "execution_count": 41,
   "metadata": {},
   "outputs": [
    {
     "name": "stdout",
     "output_type": "stream",
     "text": [
      "              precision    recall  f1-score   support\n",
      "\n",
      "           0       0.72      0.70      0.71      1635\n",
      "           1       0.69      0.71      0.70      1551\n",
      "\n",
      "    accuracy                           0.70      3186\n",
      "   macro avg       0.70      0.70      0.70      3186\n",
      "weighted avg       0.70      0.70      0.70      3186\n",
      "\n"
     ]
    }
   ],
   "source": [
    "from sklearn.metrics import  classification_report\n",
    "print(classification_report(y_pred,y_test))"
   ]
  },
  {
   "attachments": {},
   "cell_type": "markdown",
   "metadata": {},
   "source": [
    "### Method3: SMOTE"
   ]
  },
  {
   "cell_type": "code",
   "execution_count": 89,
   "metadata": {},
   "outputs": [
    {
     "data": {
      "text/plain": [
       "((15926, 12), (15926,))"
      ]
     },
     "execution_count": 89,
     "metadata": {},
     "output_type": "execute_result"
    }
   ],
   "source": [
    "from imblearn.over_sampling import SMOTE\n",
    "X = df.drop(columns=['Exited'],axis=0)\n",
    "y = df.Exited\n",
    "\n",
    "smote = SMOTE()\n",
    "X_sm, y_sm = smote.fit_resample(X,y)\n",
    "\n",
    "X_sm.shape, y_sm.shape"
   ]
  },
  {
   "cell_type": "code",
   "execution_count": 91,
   "metadata": {},
   "outputs": [],
   "source": [
    "from sklearn.model_selection import train_test_split\n",
    "X_train,X_test,y_train,y_test = train_test_split(X_sm, y_sm, test_size=0.2,random_state=15,stratify=y_sm)"
   ]
  },
  {
   "cell_type": "code",
   "execution_count": 92,
   "metadata": {},
   "outputs": [
    {
     "data": {
      "text/plain": [
       "0    6370\n",
       "1    6370\n",
       "Name: Exited, dtype: int64"
      ]
     },
     "execution_count": 92,
     "metadata": {},
     "output_type": "execute_result"
    }
   ],
   "source": [
    "y_train.value_counts()"
   ]
  },
  {
   "cell_type": "code",
   "execution_count": 93,
   "metadata": {},
   "outputs": [],
   "source": [
    "from sklearn.linear_model import LogisticRegression\n",
    "model = LogisticRegression().fit(X_train,y_train)"
   ]
  },
  {
   "cell_type": "code",
   "execution_count": 94,
   "metadata": {},
   "outputs": [],
   "source": [
    "y_pred = model.predict(X_test)"
   ]
  },
  {
   "cell_type": "code",
   "execution_count": 96,
   "metadata": {},
   "outputs": [
    {
     "name": "stdout",
     "output_type": "stream",
     "text": [
      "              precision    recall  f1-score   support\n",
      "\n",
      "           0       0.72      0.71      0.71      1617\n",
      "           1       0.70      0.72      0.71      1569\n",
      "\n",
      "    accuracy                           0.71      3186\n",
      "   macro avg       0.71      0.71      0.71      3186\n",
      "weighted avg       0.71      0.71      0.71      3186\n",
      "\n"
     ]
    }
   ],
   "source": [
    "from sklearn.metrics import  classification_report\n",
    "print(classification_report(y_pred,y_test))"
   ]
  },
  {
   "attachments": {},
   "cell_type": "markdown",
   "metadata": {},
   "source": [
    "### Method4: Use of Ensemble with undersampling"
   ]
  },
  {
   "cell_type": "code",
   "execution_count": 151,
   "metadata": {},
   "outputs": [],
   "source": [
    "def Ensembeling(df,model_func = LogisticRegression()):\n",
    "    X = df.drop(columns=['Exited'],axis=0)\n",
    "    y = df.Exited\n",
    "    X_train,X_test,y_train,y_test = train_test_split(X, y, test_size=0.2,random_state=15,stratify=y)\n",
    "\n",
    "    n_cuts = np.ceil(y_train.value_counts()[0]/ y_train.value_counts()[1])\n",
    "    slices = np.ceil(np.linspace(0,int(y_train.value_counts()[0]),num=int(n_cuts)))\n",
    "\n",
    "    df_class0 = df[df.Exited==0]\n",
    "    df_class1 = df[df.Exited==1]\n",
    "    final_pred = np.empty([X_test.shape[0]])\n",
    "    print(final_pred.shape[0])\n",
    "    for i in range(0,len(slices)-1):\n",
    "        df_train = pd.concat([df_class0[int(slices[i]):int(slices[i+1])], df_class1], axis=0)\n",
    "        X_train = df_train.drop(columns=['Exited'],axis=0)\n",
    "        y_train = df_train.Exited\n",
    "\n",
    "        model = model_func.fit(X_train,y_train)\n",
    "        y_pred = model.predict(X_test)\n",
    " \n",
    "        final_pred += y_pred \n",
    "\n",
    "    for i in range(len(final_pred)):\n",
    "        if final_pred[i]>1:\n",
    "            final_pred[i] = 1\n",
    "        else:\n",
    "            final_pred[i] = 0\n",
    "    return final_pred\n",
    "    "
   ]
  },
  {
   "cell_type": "code",
   "execution_count": 153,
   "metadata": {},
   "outputs": [
    {
     "name": "stdout",
     "output_type": "stream",
     "text": [
      "2000\n",
      "              precision    recall  f1-score   support\n",
      "\n",
      "         0.0       0.73      0.89      0.80      1305\n",
      "         1.0       0.64      0.37      0.47       695\n",
      "\n",
      "    accuracy                           0.71      2000\n",
      "   macro avg       0.68      0.63      0.63      2000\n",
      "weighted avg       0.70      0.71      0.68      2000\n",
      "\n"
     ]
    }
   ],
   "source": [
    "y_pred = Ensembeling(df)\n",
    "print(classification_report(y_pred,y_test))"
   ]
  }
 ],
 "metadata": {
  "kernelspec": {
   "display_name": "Python 3",
   "language": "python",
   "name": "python3"
  },
  "language_info": {
   "codemirror_mode": {
    "name": "ipython",
    "version": 3
   },
   "file_extension": ".py",
   "mimetype": "text/x-python",
   "name": "python",
   "nbconvert_exporter": "python",
   "pygments_lexer": "ipython3",
   "version": "3.10.11"
  },
  "orig_nbformat": 4
 },
 "nbformat": 4,
 "nbformat_minor": 2
}
